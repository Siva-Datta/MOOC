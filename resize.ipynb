{
 "cells": [
  {
   "cell_type": "code",
   "execution_count": 3,
   "metadata": {},
   "outputs": [],
   "source": [
    "import os\n",
    "import cv2\n",
    "\n",
    "path=os.listdir(r'C:/Users/datta/Desktop/tfidf/data/forboxing/0/')\n",
    "for filename in path:\n",
    "  img = cv2.imread(os.path.join(r'C:/Users/datta/Desktop/tfidf/data/forboxing/0/', filename))\n",
    " # cv2.imshow('asd',img) \n",
    "  #print('Original Dimensions : ',img.shape)\n",
    "  width = 224\n",
    "  height = 224\n",
    "  dim = (width, height)\n",
    " \n",
    "# resize image\n",
    "  resized = cv2.resize(img, dim, interpolation = cv2.INTER_AREA) \n",
    "  \n",
    "  cv2.imwrite(os.path.join(r'C:/Usersdatta/Desktop/tfidf/data/forboxing/0/', filename), resized)\n",
    "  cv2.waitKey(0)\n",
    "  cv2.destroyAllWindows()"
   ]
  },
  {
   "cell_type": "code",
   "execution_count": null,
   "metadata": {},
   "outputs": [],
   "source": []
  },
  {
   "cell_type": "code",
   "execution_count": null,
   "metadata": {},
   "outputs": [],
   "source": []
  }
 ],
 "metadata": {
  "kernelspec": {
   "display_name": "Python 3",
   "language": "python",
   "name": "python3"
  },
  "language_info": {
   "codemirror_mode": {
    "name": "ipython",
    "version": 3
   },
   "file_extension": ".py",
   "mimetype": "text/x-python",
   "name": "python",
   "nbconvert_exporter": "python",
   "pygments_lexer": "ipython3",
   "version": "3.7.4"
  }
 },
 "nbformat": 4,
 "nbformat_minor": 2
}
