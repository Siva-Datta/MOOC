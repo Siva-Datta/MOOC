{
 "cells": [
  {
   "cell_type": "code",
   "execution_count": 22,
   "metadata": {},
   "outputs": [
    {
     "name": "stdout",
     "output_type": "stream",
     "text": [
      "Give PathC:\\Users\\datta\\Desktop\\tfidf\\videos\\Historical Perspective of development of remote sensing technology\\hist_persp_000234.png\n"
     ]
    }
   ],
   "source": [
    "import cv2\n",
    "import numpy as np\n",
    "#image = cv2.imread(r'C:\\Users\\datta\\Desktop\\tfidf\\train\\slide\\intro_to_prog_cyc000278.png') # reading the image\n",
    "path=input('Give Path')\n",
    "image = cv2.imread(path)\n",
    "#image = cv2.imread(r'C:\\Users\\datta\\Desktop\\tfidf\\videos\\Historical Perspective of development of remote sensing technology\\hist_persp_000234.png')\n",
    "#image = cv2.imread(r'C:\\Users\\datta\\Desktop\\tfidf\\a.jpg') # reading the image\n",
    "gray = cv2.cvtColor(image, cv2.COLOR_BGR2GRAY) # convert2grayscale\n",
    "(thresh, binary) = cv2.threshold(gray, 150, 255, cv2.THRESH_BINARY | cv2.THRESH_OTSU) # convert2binary"
   ]
  },
  {
   "cell_type": "code",
   "execution_count": 23,
   "metadata": {},
   "outputs": [],
   "source": [
    "from typing import List\n",
    "minLineLength = 100\n",
    "maxLineGap = 50\n",
    "def lines_extraction(gray: List[int]) -> List[int]:\n",
    "    \"\"\"\n",
    "    this function extracts the lines from the binary image. Cleaning process.\n",
    "    \"\"\"\n",
    "    edges = cv2.Canny(gray, 75, 150)\n",
    "    lines = cv2.HoughLinesP(edges, 1, np.pi/180, 100, minLineLength, maxLineGap)\n",
    "    return lines\n",
    "mask = np.ones(image.shape[:2], dtype=\"uint8\") * 255 # create a white image\n",
    "lines = lines_extraction(gray) # extract lines\n",
    "try:\n",
    "    for line in lines: # write lines to mask\n",
    "        x1, y1, x2, y2 = line[0]\n",
    "        cv2.line(mask, (x1, y1), (x2, y2), (0, 255, 0), 3)\n",
    "except TypeError:\n",
    "    pass\n",
    "( contours, _) = cv2.findContours(~binary,cv2.RETR_EXTERNAL,cv2.CHAIN_APPROX_SIMPLE) # find contours\n",
    "areas = [cv2.contourArea(c) for c in contours] # find area of contour\n",
    "avgArea = sum(areas)/len(areas) # finding average area\n",
    "for c in contours:# average area heuristics\n",
    "    if cv2.contourArea(c)>60*avgArea:\n",
    "        cv2.drawContours(mask, [c], -1, 0, -1)\n",
    "binary = cv2.bitwise_and(binary, binary, mask=mask) # subtracting the noise"
   ]
  },
  {
   "cell_type": "code",
   "execution_count": 24,
   "metadata": {},
   "outputs": [],
   "source": [
    "binary = binary[0:int(image.shape[0]*0.25), 0:image.shape[1]]"
   ]
  },
  {
   "cell_type": "code",
   "execution_count": 25,
   "metadata": {},
   "outputs": [],
   "source": [
    "import pytesseract\n",
    "pytesseract.pytesseract.tesseract_cmd = r'C:\\Users\\datta\\AppData\\Local\\Tesseract-OCR\\tesseract.exe'\n",
    "from PIL import Image\n",
    "from pytesseract import image_to_string\n",
    "from pytesseract import Output\n",
    "d = pytesseract.image_to_data(binary, output_type=Output.DICT)"
   ]
  },
  {
   "cell_type": "code",
   "execution_count": 26,
   "metadata": {},
   "outputs": [],
   "source": [
    "att=0\n",
    "ait=[]\n",
    "c=0\n",
    "for i in range(len(d['height'])):\n",
    "    k=d['height'][i]\n",
    "    if(d['conf'][i]!='-1'):\n",
    "        ait.append(i)\n",
    "        att=att+k\n",
    "        c=c+1\n",
    "att=att/c\n",
    "ne=[]\n",
    "for i in ait:\n",
    "    k=d['text'][i]\n",
    "    if(k==\"\" or k==\" \" or d['height'][i]>2*att):\n",
    "        continue\n",
    "    else:\n",
    "        ne.append(i)"
   ]
  },
  {
   "cell_type": "code",
   "execution_count": 27,
   "metadata": {},
   "outputs": [
    {
     "name": "stdout",
     "output_type": "stream",
     "text": [
      "ISRO Missions: Remote Sensing satellites since 1988 "
     ]
    }
   ],
   "source": [
    "bot=d['top'][ne[0]]+d['height'][ne[0]]\n",
    "for n in ne:\n",
    "    if(d['top'][n]<bot):\n",
    "        print(d['text'][n],end=\" \")"
   ]
  },
  {
   "cell_type": "code",
   "execution_count": null,
   "metadata": {},
   "outputs": [],
   "source": []
  }
 ],
 "metadata": {
  "kernelspec": {
   "display_name": "Python 3",
   "language": "python",
   "name": "python3"
  },
  "language_info": {
   "codemirror_mode": {
    "name": "ipython",
    "version": 3
   },
   "file_extension": ".py",
   "mimetype": "text/x-python",
   "name": "python",
   "nbconvert_exporter": "python",
   "pygments_lexer": "ipython3",
   "version": "3.7.7"
  }
 },
 "nbformat": 4,
 "nbformat_minor": 4
}
